{
  "nbformat": 4,
  "nbformat_minor": 0,
  "metadata": {
    "colab": {
      "name": "Dueling DQN  Kaustav Implementation.ipynb",
      "version": "0.3.2",
      "provenance": [],
      "collapsed_sections": []
    },
    "kernelspec": {
      "name": "python3",
      "display_name": "Python 3"
    },
    "accelerator": "GPU"
  },
  "cells": [
    {
      "cell_type": "markdown",
      "metadata": {
        "id": "W1WUmtXjfDsj",
        "colab_type": "text"
      },
      "source": [
        "# Dueling Deep Q-Network (Double DQN)\n",
        "---\n",
        "In this notebook, you will implement a DQN agent with OpenAI Gym's LunarLander-v2 environment.\n",
        "\n",
        "### 1. Import the Necessary Packages"
      ]
    },
    {
      "cell_type": "code",
      "metadata": {
        "id": "JZT6doLTe75s",
        "colab_type": "code",
        "outputId": "dfefdf08-15e4-421d-fe50-1ec883fa324a",
        "colab": {
          "base_uri": "https://localhost:8080/",
          "height": 235
        }
      },
      "source": [
        "# memory footprint support libraries/code\n",
        "!ln -sf /opt/bin/nvidia-smi /usr/bin/nvidia-smi\n",
        "!pip install gputil\n",
        "!pip install psutil\n",
        "!pip install humanize\n",
        "import psutil\n",
        "import humanize\n",
        "import os\n",
        "import GPUtil as GPU\n",
        "GPUs = GPU.getGPUs()\n",
        "# XXX: only one GPU on Colab and isn’t guaranteed\n",
        "gpu = GPUs[0]\n",
        "def printm():\n",
        " process = psutil.Process(os.getpid())\n",
        " print(\"Gen RAM Free: \" + humanize.naturalsize( psutil.virtual_memory().available ), \" | Proc size: \" + humanize.naturalsize( process.memory_info().rss))\n",
        " print(\"GPU RAM Free: {0:.0f}MB | Used: {1:.0f}MB | Util {2:3.0f}% | Total {3:.0f}MB\".format(gpu.memoryFree, gpu.memoryUsed, gpu.memoryUtil*100, gpu.memoryTotal))\n",
        "printm()"
      ],
      "execution_count": 1,
      "outputs": [
        {
          "output_type": "stream",
          "text": [
            "Collecting gputil\n",
            "  Downloading https://files.pythonhosted.org/packages/ed/0e/5c61eedde9f6c87713e89d794f01e378cfd9565847d4576fa627d758c554/GPUtil-1.4.0.tar.gz\n",
            "Building wheels for collected packages: gputil\n",
            "  Building wheel for gputil (setup.py) ... \u001b[?25l\u001b[?25hdone\n",
            "  Created wheel for gputil: filename=GPUtil-1.4.0-cp36-none-any.whl size=7411 sha256=4ff8b6503a18b1b4eda95ee3b75bbfd50bf9889e52b1baee07a8d00b147c9282\n",
            "  Stored in directory: /root/.cache/pip/wheels/3d/77/07/80562de4bb0786e5ea186911a2c831fdd0018bda69beab71fd\n",
            "Successfully built gputil\n",
            "Installing collected packages: gputil\n",
            "Successfully installed gputil-1.4.0\n",
            "Requirement already satisfied: psutil in /usr/local/lib/python3.6/dist-packages (5.4.8)\n",
            "Requirement already satisfied: humanize in /usr/local/lib/python3.6/dist-packages (0.5.1)\n",
            "Gen RAM Free: 12.9 GB  | Proc size: 154.3 MB\n",
            "GPU RAM Free: 15079MB | Used: 0MB | Util   0% | Total 15079MB\n"
          ],
          "name": "stdout"
        }
      ]
    },
    {
      "cell_type": "code",
      "metadata": {
        "id": "ymAnIyhQfJpv",
        "colab_type": "code",
        "outputId": "d961cf97-2c2a-4177-d1ac-ead787d8838d",
        "colab": {
          "base_uri": "https://localhost:8080/",
          "height": 1000
        }
      },
      "source": [
        "!apt-get install -y python-numpy python-dev cmake zlib1g-dev libjpeg-dev xvfb libav-tools xorg-dev python-opengl libboost-all-dev libsdl2-dev swig\n",
        "!pip install pyvirtualdisplay\n",
        "##!pip install piglet\n",
        "!pip install pyglet==1.3.2  ###DONT CHANGE THE VERSION\n",
        "!apt-get install xvfb\n",
        "from pyvirtualdisplay import Display\n",
        "!apt-get install cmake\n",
        "!pip install setuptool\n",
        "!pip install ez_setup\n",
        "!pip install gym[atari] "
      ],
      "execution_count": 2,
      "outputs": [
        {
          "output_type": "stream",
          "text": [
            "Reading package lists... Done\n",
            "Building dependency tree       \n",
            "Reading state information... Done\n",
            "Package libav-tools is not available, but is referred to by another package.\n",
            "This may mean that the package is missing, has been obsoleted, or\n",
            "is only available from another source\n",
            "However the following packages replace it:\n",
            "  ffmpeg\n",
            "\n",
            "E: Package 'libav-tools' has no installation candidate\n",
            "Collecting pyvirtualdisplay\n",
            "  Downloading https://files.pythonhosted.org/packages/cf/ad/b15f252bfb0f1693ad3150b55a44a674f3cba711cacdbb9ae2f03f143d19/PyVirtualDisplay-0.2.4-py2.py3-none-any.whl\n",
            "Collecting EasyProcess (from pyvirtualdisplay)\n",
            "  Downloading https://files.pythonhosted.org/packages/fa/29/40040d1d64a224a5e44df9572794a66494618ffe5c77199214aeceedb8a7/EasyProcess-0.2.7-py2.py3-none-any.whl\n",
            "Installing collected packages: EasyProcess, pyvirtualdisplay\n",
            "Successfully installed EasyProcess-0.2.7 pyvirtualdisplay-0.2.4\n",
            "Collecting pyglet==1.3.2\n",
            "\u001b[?25l  Downloading https://files.pythonhosted.org/packages/1c/fc/dad5eaaab68f0c21e2f906a94ddb98175662cc5a654eee404d59554ce0fa/pyglet-1.3.2-py2.py3-none-any.whl (1.0MB)\n",
            "\u001b[K     |████████████████████████████████| 1.0MB 8.4MB/s \n",
            "\u001b[?25hRequirement already satisfied: future in /usr/local/lib/python3.6/dist-packages (from pyglet==1.3.2) (0.16.0)\n",
            "Installing collected packages: pyglet\n",
            "  Found existing installation: pyglet 1.4.1\n",
            "    Uninstalling pyglet-1.4.1:\n",
            "      Successfully uninstalled pyglet-1.4.1\n",
            "Successfully installed pyglet-1.3.2\n",
            "Reading package lists... Done\n",
            "Building dependency tree       \n",
            "Reading state information... Done\n",
            "The following package was automatically installed and is no longer required:\n",
            "  libnvidia-common-410\n",
            "Use 'apt autoremove' to remove it.\n",
            "The following NEW packages will be installed:\n",
            "  xvfb\n",
            "0 upgraded, 1 newly installed, 0 to remove and 4 not upgraded.\n",
            "Need to get 783 kB of archives.\n",
            "After this operation, 2,266 kB of additional disk space will be used.\n",
            "Get:1 http://archive.ubuntu.com/ubuntu bionic-updates/universe amd64 xvfb amd64 2:1.19.6-1ubuntu4.3 [783 kB]\n",
            "Fetched 783 kB in 0s (6,882 kB/s)\n",
            "Selecting previously unselected package xvfb.\n",
            "(Reading database ... 131289 files and directories currently installed.)\n",
            "Preparing to unpack .../xvfb_2%3a1.19.6-1ubuntu4.3_amd64.deb ...\n",
            "Unpacking xvfb (2:1.19.6-1ubuntu4.3) ...\n",
            "Setting up xvfb (2:1.19.6-1ubuntu4.3) ...\n",
            "Processing triggers for man-db (2.8.3-2ubuntu0.1) ...\n",
            "Reading package lists... Done\n",
            "Building dependency tree       \n",
            "Reading state information... Done\n",
            "cmake is already the newest version (3.10.2-1ubuntu2).\n",
            "The following package was automatically installed and is no longer required:\n",
            "  libnvidia-common-410\n",
            "Use 'apt autoremove' to remove it.\n",
            "0 upgraded, 0 newly installed, 0 to remove and 4 not upgraded.\n",
            "Collecting setuptool\n",
            "\u001b[31m  ERROR: Could not find a version that satisfies the requirement setuptool (from versions: none)\u001b[0m\n",
            "\u001b[31mERROR: No matching distribution found for setuptool\u001b[0m\n",
            "Collecting ez_setup\n",
            "  Downloading https://files.pythonhosted.org/packages/ba/2c/743df41bd6b3298706dfe91b0c7ecdc47f2dc1a3104abeb6e9aa4a45fa5d/ez_setup-0.9.tar.gz\n",
            "Building wheels for collected packages: ez-setup\n",
            "  Building wheel for ez-setup (setup.py) ... \u001b[?25l\u001b[?25hdone\n",
            "  Created wheel for ez-setup: filename=ez_setup-0.9-cp36-none-any.whl size=11014 sha256=0d0c15973fe550e07e9e30e451d9fd780eeb82f71bbe28e34082b18ad42e0399\n",
            "  Stored in directory: /root/.cache/pip/wheels/dc/e8/6b/3d5ff5a3efd7b5338d1e173ac981771e2628ceb2f7866d49ad\n",
            "Successfully built ez-setup\n",
            "Installing collected packages: ez-setup\n",
            "Successfully installed ez-setup-0.9\n",
            "Requirement already satisfied: gym[atari] in /usr/local/lib/python3.6/dist-packages (0.10.11)\n",
            "Requirement already satisfied: scipy in /usr/local/lib/python3.6/dist-packages (from gym[atari]) (1.3.1)\n",
            "Requirement already satisfied: pyglet>=1.2.0 in /usr/local/lib/python3.6/dist-packages (from gym[atari]) (1.3.2)\n",
            "Requirement already satisfied: requests>=2.0 in /usr/local/lib/python3.6/dist-packages (from gym[atari]) (2.21.0)\n",
            "Requirement already satisfied: six in /usr/local/lib/python3.6/dist-packages (from gym[atari]) (1.12.0)\n",
            "Requirement already satisfied: numpy>=1.10.4 in /usr/local/lib/python3.6/dist-packages (from gym[atari]) (1.16.4)\n",
            "Requirement already satisfied: Pillow; extra == \"atari\" in /usr/local/lib/python3.6/dist-packages (from gym[atari]) (4.3.0)\n",
            "Requirement already satisfied: atari-py>=0.1.4; extra == \"atari\" in /usr/local/lib/python3.6/dist-packages (from gym[atari]) (0.1.15)\n",
            "Requirement already satisfied: PyOpenGL; extra == \"atari\" in /usr/local/lib/python3.6/dist-packages (from gym[atari]) (3.1.0)\n",
            "Requirement already satisfied: future in /usr/local/lib/python3.6/dist-packages (from pyglet>=1.2.0->gym[atari]) (0.16.0)\n",
            "Requirement already satisfied: chardet<3.1.0,>=3.0.2 in /usr/local/lib/python3.6/dist-packages (from requests>=2.0->gym[atari]) (3.0.4)\n",
            "Requirement already satisfied: idna<2.9,>=2.5 in /usr/local/lib/python3.6/dist-packages (from requests>=2.0->gym[atari]) (2.8)\n",
            "Requirement already satisfied: urllib3<1.25,>=1.21.1 in /usr/local/lib/python3.6/dist-packages (from requests>=2.0->gym[atari]) (1.24.3)\n",
            "Requirement already satisfied: certifi>=2017.4.17 in /usr/local/lib/python3.6/dist-packages (from requests>=2.0->gym[atari]) (2019.6.16)\n",
            "Requirement already satisfied: olefile in /usr/local/lib/python3.6/dist-packages (from Pillow; extra == \"atari\"->gym[atari]) (0.46)\n"
          ],
          "name": "stdout"
        }
      ]
    },
    {
      "cell_type": "code",
      "metadata": {
        "id": "tO_rmyb_f3Kh",
        "colab_type": "code",
        "outputId": "e3161b52-a2a0-4f08-cd6f-831cbc39bea7",
        "colab": {
          "base_uri": "https://localhost:8080/",
          "height": 403
        }
      },
      "source": [
        "!pip install box2d-py\n",
        "!pip install gym[Box_2D]\n",
        "import gym\n",
        "import random\n",
        "import torch\n",
        "import numpy as np\n",
        "from collections import deque\n",
        "import matplotlib.pyplot as plt\n",
        "%matplotlib inline\n",
        "\n",
        "\n",
        "!pip -m pip install pyvirtualdisplay\n",
        "from pyvirtualdisplay import Display\n",
        "display = Display(visible=0, size=(1400, 900))\n",
        "display.start()\n",
        "\n",
        "is_ipython = 'inline' in plt.get_backend()\n",
        "if is_ipython:\n",
        "    from IPython import display\n",
        "\n",
        "plt.ion()"
      ],
      "execution_count": 3,
      "outputs": [
        {
          "output_type": "stream",
          "text": [
            "Collecting box2d-py\n",
            "\u001b[?25l  Downloading https://files.pythonhosted.org/packages/06/bd/6cdc3fd994b0649dcf5d9bad85bd9e26172308bbe9a421bfc6fdbf5081a6/box2d_py-2.3.8-cp36-cp36m-manylinux1_x86_64.whl (448kB)\n",
            "\r\u001b[K     |▊                               | 10kB 22.1MB/s eta 0:00:01\r\u001b[K     |█▌                              | 20kB 5.5MB/s eta 0:00:01\r\u001b[K     |██▏                             | 30kB 7.9MB/s eta 0:00:01\r\u001b[K     |███                             | 40kB 5.2MB/s eta 0:00:01\r\u001b[K     |███▋                            | 51kB 6.4MB/s eta 0:00:01\r\u001b[K     |████▍                           | 61kB 7.6MB/s eta 0:00:01\r\u001b[K     |█████▏                          | 71kB 8.6MB/s eta 0:00:01\r\u001b[K     |█████▉                          | 81kB 9.6MB/s eta 0:00:01\r\u001b[K     |██████▋                         | 92kB 10.6MB/s eta 0:00:01\r\u001b[K     |███████▎                        | 102kB 8.5MB/s eta 0:00:01\r\u001b[K     |████████                        | 112kB 8.5MB/s eta 0:00:01\r\u001b[K     |████████▊                       | 122kB 8.5MB/s eta 0:00:01\r\u001b[K     |█████████▌                      | 133kB 8.5MB/s eta 0:00:01\r\u001b[K     |██████████▎                     | 143kB 8.5MB/s eta 0:00:01\r\u001b[K     |███████████                     | 153kB 8.5MB/s eta 0:00:01\r\u001b[K     |███████████▊                    | 163kB 8.5MB/s eta 0:00:01\r\u001b[K     |████████████▍                   | 174kB 8.5MB/s eta 0:00:01\r\u001b[K     |█████████████▏                  | 184kB 8.5MB/s eta 0:00:01\r\u001b[K     |█████████████▉                  | 194kB 8.5MB/s eta 0:00:01\r\u001b[K     |██████████████▋                 | 204kB 8.5MB/s eta 0:00:01\r\u001b[K     |███████████████▍                | 215kB 8.5MB/s eta 0:00:01\r\u001b[K     |████████████████                | 225kB 8.5MB/s eta 0:00:01\r\u001b[K     |████████████████▉               | 235kB 8.5MB/s eta 0:00:01\r\u001b[K     |█████████████████▌              | 245kB 8.5MB/s eta 0:00:01\r\u001b[K     |██████████████████▎             | 256kB 8.5MB/s eta 0:00:01\r\u001b[K     |███████████████████             | 266kB 8.5MB/s eta 0:00:01\r\u001b[K     |███████████████████▊            | 276kB 8.5MB/s eta 0:00:01\r\u001b[K     |████████████████████▌           | 286kB 8.5MB/s eta 0:00:01\r\u001b[K     |█████████████████████▏          | 296kB 8.5MB/s eta 0:00:01\r\u001b[K     |██████████████████████          | 307kB 8.5MB/s eta 0:00:01\r\u001b[K     |██████████████████████▋         | 317kB 8.5MB/s eta 0:00:01\r\u001b[K     |███████████████████████▍        | 327kB 8.5MB/s eta 0:00:01\r\u001b[K     |████████████████████████        | 337kB 8.5MB/s eta 0:00:01\r\u001b[K     |████████████████████████▉       | 348kB 8.5MB/s eta 0:00:01\r\u001b[K     |█████████████████████████▋      | 358kB 8.5MB/s eta 0:00:01\r\u001b[K     |██████████████████████████▎     | 368kB 8.5MB/s eta 0:00:01\r\u001b[K     |███████████████████████████     | 378kB 8.5MB/s eta 0:00:01\r\u001b[K     |███████████████████████████▊    | 389kB 8.5MB/s eta 0:00:01\r\u001b[K     |████████████████████████████▌   | 399kB 8.5MB/s eta 0:00:01\r\u001b[K     |█████████████████████████████▏  | 409kB 8.5MB/s eta 0:00:01\r\u001b[K     |██████████████████████████████  | 419kB 8.5MB/s eta 0:00:01\r\u001b[K     |██████████████████████████████▊ | 430kB 8.5MB/s eta 0:00:01\r\u001b[K     |███████████████████████████████▍| 440kB 8.5MB/s eta 0:00:01\r\u001b[K     |████████████████████████████████| 450kB 8.5MB/s \n",
            "\u001b[?25hInstalling collected packages: box2d-py\n",
            "Successfully installed box2d-py-2.3.8\n",
            "Requirement already satisfied: gym[Box_2D] in /usr/local/lib/python3.6/dist-packages (0.10.11)\n",
            "\u001b[33m  WARNING: gym 0.10.11 does not provide the extra 'box_2d'\u001b[0m\n",
            "Requirement already satisfied: requests>=2.0 in /usr/local/lib/python3.6/dist-packages (from gym[Box_2D]) (2.21.0)\n",
            "Requirement already satisfied: six in /usr/local/lib/python3.6/dist-packages (from gym[Box_2D]) (1.12.0)\n",
            "Requirement already satisfied: numpy>=1.10.4 in /usr/local/lib/python3.6/dist-packages (from gym[Box_2D]) (1.16.4)\n",
            "Requirement already satisfied: pyglet>=1.2.0 in /usr/local/lib/python3.6/dist-packages (from gym[Box_2D]) (1.3.2)\n",
            "Requirement already satisfied: scipy in /usr/local/lib/python3.6/dist-packages (from gym[Box_2D]) (1.3.1)\n",
            "Requirement already satisfied: chardet<3.1.0,>=3.0.2 in /usr/local/lib/python3.6/dist-packages (from requests>=2.0->gym[Box_2D]) (3.0.4)\n",
            "Requirement already satisfied: idna<2.9,>=2.5 in /usr/local/lib/python3.6/dist-packages (from requests>=2.0->gym[Box_2D]) (2.8)\n",
            "Requirement already satisfied: urllib3<1.25,>=1.21.1 in /usr/local/lib/python3.6/dist-packages (from requests>=2.0->gym[Box_2D]) (1.24.3)\n",
            "Requirement already satisfied: certifi>=2017.4.17 in /usr/local/lib/python3.6/dist-packages (from requests>=2.0->gym[Box_2D]) (2019.6.16)\n",
            "Requirement already satisfied: future in /usr/local/lib/python3.6/dist-packages (from pyglet>=1.2.0->gym[Box_2D]) (0.16.0)\n",
            "\n",
            "Usage:   \n",
            "  pip3 <command> [options]\n",
            "\n",
            "no such option: -m\n"
          ],
          "name": "stdout"
        },
        {
          "output_type": "stream",
          "text": [
            "xdpyinfo was not found, X start can not be checked! Please install xdpyinfo!\n"
          ],
          "name": "stderr"
        }
      ]
    },
    {
      "cell_type": "markdown",
      "metadata": {
        "id": "So86pwYund1x",
        "colab_type": "text"
      },
      "source": [
        "Define Environment"
      ]
    },
    {
      "cell_type": "code",
      "metadata": {
        "id": "GI7LTn-Qncwc",
        "colab_type": "code",
        "outputId": "5846769a-22e3-4305-fd82-1fff99842878",
        "colab": {
          "base_uri": "https://localhost:8080/",
          "height": 50
        }
      },
      "source": [
        "env = gym.make('LunarLander-v2')\n",
        "env.seed(0)\n",
        "print('State shape: ', env.observation_space.shape)\n",
        "print('Number of actions: ', env.action_space.n)"
      ],
      "execution_count": 4,
      "outputs": [
        {
          "output_type": "stream",
          "text": [
            "State shape:  (8,)\n",
            "Number of actions:  4\n"
          ],
          "name": "stdout"
        }
      ]
    },
    {
      "cell_type": "code",
      "metadata": {
        "id": "lt17L7o1k3X0",
        "colab_type": "code",
        "colab": {}
      },
      "source": [
        "##Network\n",
        "\n",
        "import torch\n",
        "import torch.nn as nn\n",
        "import torch.nn.functional as F\n",
        "\n",
        "class QNetwork(nn.Module):\n",
        "  \"\"\"Actor (Policy) Model.\"\"\"\n",
        "  def __init__(self, state_size, action_size, seed):\n",
        "    '''\n",
        "    Initialize Parameters\n",
        "    '''\n",
        "    super(QNetwork, self).__init__()\n",
        "    self.state_size = state_size\n",
        "    self.action_size = action_size\n",
        "    self.seed = torch.manual_seed(seed)\n",
        "    \n",
        "    self.features = nn.Sequential(nn.Linear(state_size,128),\n",
        "                                 nn.ReLU()\n",
        "                                 )\n",
        "\n",
        "    self.advantage = nn.Sequential(nn.Linear(128,128),\n",
        "                                   nn.ReLU(),\n",
        "                                   nn.Linear(128,action_size)\n",
        "                                  )\n",
        "                                   \n",
        "    self.value =     nn.Sequential(nn.Linear(128,128),\n",
        "                                   nn.ReLU(),\n",
        "                                   nn.Linear(128,1)\n",
        "                                  )\n",
        "                                   \n",
        "\n",
        "  \n",
        "  def forward(self, state):\n",
        "    \"\"\"\n",
        "    Build a network that maps state -> action values.\n",
        "    \"\"\"\n",
        "    x = self.features(state)\n",
        "    #advantage\n",
        "    advantage = self.advantage(x)\n",
        "    #value\n",
        "    value = self.value(x)\n",
        "    return value + advantage - advantage.mean()"
      ],
      "execution_count": 0,
      "outputs": []
    },
    {
      "cell_type": "code",
      "metadata": {
        "id": "bS7fkQjAm6Mg",
        "colab_type": "code",
        "colab": {}
      },
      "source": [
        "import numpy as np\n",
        "import random\n",
        "from collections import namedtuple, deque\n",
        "\n",
        "import torch.optim as optim\n",
        "\n",
        "##HYPERPARAMETERS\n",
        "\n",
        "BUFFER_SIZE = int(1e5)  ##replay buffer size\n",
        "BATCH_SIZE  = 128       ##minibatch size\n",
        "GAMMA  = .99            ##discount factor\n",
        "TAU = 1e-3              # for soft update of target parameters\n",
        "LR = 5e-4               # learning rate\n",
        "#LR = 1e-5  \n",
        "\n",
        "UPDATE_EVERY = 4        ## how often local network gets copied to target network\n",
        "\n",
        "if torch.cuda.is_available():\n",
        "  device = torch.device(\"cuda:0\")\n",
        "else:\n",
        "  device = torch.device(\"cpu\")\n",
        "\n",
        "  \n"
      ],
      "execution_count": 0,
      "outputs": []
    },
    {
      "cell_type": "code",
      "metadata": {
        "id": "2MZPZoas1DF6",
        "colab_type": "code",
        "colab": {}
      },
      "source": [
        "## Define the Replay Buffer ( Deque)\n",
        "\n",
        "class ReplayBuffer:\n",
        "  \"\"\"\n",
        "  Fixed-size buffer to store experience tuples.\n",
        "  \"\"\"\n",
        "  def __init__(self,action_size, buffer_size, batch_size, seed):\n",
        "    self.seed = random.seed(seed)\n",
        "    self.buffer_size = buffer_size\n",
        "    self.batch_size = batch_size\n",
        "    self.action_size = action_size\n",
        "    \n",
        "    \n",
        "    self.experience = namedtuple(\"Experience\", field_names =[\"state\", \"actions\",\"rewards\",\"next_state\", \"done\"])\n",
        "    self.memory = deque(maxlen= buffer_size)\n",
        "    \n",
        "  def add(self, state, action,rewards, next_state, done):\n",
        "      \n",
        "    experience = self.experience(state, action,rewards,next_state, done)\n",
        "    self.memory.append(experience)\n",
        "      \n",
        "  def sample(self):\n",
        "    '''\n",
        "    Randomly sample a batch from experience\n",
        "    '''\n",
        "      \n",
        "    experiences = random.sample(self.memory,k = self.batch_size)\n",
        "      \n",
        "    state = torch.from_numpy(np.vstack([e.state for e in experiences if e is not None])).float().to(device)\n",
        "    actions = torch.from_numpy(np.vstack([e.actions for e in experiences if e is not None])).long().to(device)  ## dont change to float\n",
        "    rewards = torch.from_numpy(np.vstack([e.rewards for e in experiences if e is not None])).float().to(device)\n",
        "    next_state = torch.from_numpy(np.vstack([e.next_state for e in experiences if e is not None])).float().to(device)\n",
        "    done = torch.from_numpy(np.vstack([e.done for e in experiences if e is not None])).float().to(device)\n",
        "      \n",
        "    return state,actions, rewards, next_state, done\n",
        "  def __len__(self):\n",
        "    \"\"\"\n",
        "    Return the current size of internal memory.\n",
        "    \"\"\"\n",
        "    return len(self.memory)\n",
        "    \n"
      ],
      "execution_count": 0,
      "outputs": []
    },
    {
      "cell_type": "code",
      "metadata": {
        "id": "kHLpz6dJ1ExI",
        "colab_type": "code",
        "colab": {}
      },
      "source": [
        "## Define the Agent\n",
        "\n",
        "class Agent():\n",
        "  '''\n",
        "  Interacts with and learns from the environment.\n",
        "  '''\n",
        "  def __init__(self,state_size,action_size, seed,batch_size= BATCH_SIZE,buffer_size= BUFFER_SIZE,lr=LR , gamma= GAMMA ):\n",
        "    \n",
        "    self.state_size = state_size\n",
        "    self.action_size = action_size\n",
        "    self.buffer_size = buffer_size\n",
        "    self.batch_size = batch_size\n",
        "    self.lr = lr\n",
        "    self.gamma = gamma\n",
        "    \n",
        "    self.seed = random.seed(seed)\n",
        "    \n",
        "    # Q-Network\n",
        "    self.qnetwork_local =  QNetwork(self.state_size, self.action_size, seed).to(device)\n",
        "    self.qnetwork_target = QNetwork(self.state_size , self.action_size, seed).to(device)\n",
        "    self.optimizer = optim.Adam(self.qnetwork_local.parameters(),lr= self.lr)\n",
        "    self.criterion = nn.MSELoss()\n",
        "    \n",
        "    # Replay memory\n",
        "    self.memory = ReplayBuffer(action_size, buffer_size, batch_size, seed)\n",
        "    # Initialize time step (for updating every UPDATE_EVERY steps)\n",
        "    self.t_step = 0\n",
        "  \n",
        "  \n",
        "  def step(self,state,actions,rewards, next_state,done):\n",
        "    self.memory.add(state,actions,rewards, next_state,done)\n",
        "    self.t_step =(self.t_step + 1)% UPDATE_EVERY\n",
        "    ## dont learn whenever 1 batch is added.\n",
        "    ##Rather wait for UPDATE_EVERY batch to be added before we call learn once\n",
        "    if self.t_step==0:\n",
        "      if len(self.memory)> self.batch_size:\n",
        "        experiences = self.memory.sample()\n",
        "        self.learn(experiences, self.gamma)\n",
        "    \n",
        "  def learn(self,experiences, gamma):\n",
        "    \"\"\"\n",
        "    Update value parameters using given batch of experience tuples.\n",
        "    \"\"\"\n",
        "    state, actions, rewards,next_state, done = experiences \n",
        "    target_q = self.qnetwork_target(next_state).detach()\n",
        "    target_values = rewards + gamma*torch.max(target_q, 1)[0].unsqueeze(1)*(1-done)\n",
        "    current_values= self.qnetwork_local(state).gather(1, actions)    \n",
        "    \n",
        "    # Compute loss\n",
        "    loss = self.criterion(current_values,target_values)\n",
        "    \n",
        "    ##optimization step\n",
        "    self.optimizer.zero_grad()\n",
        "    loss.backward()\n",
        "    self.optimizer.step()\n",
        "    \n",
        "    # ----- Update the target network -----\n",
        "    if self.t_step==0:\n",
        "      ## when it comes here self.t_step will always be 0 anyways. \n",
        "      ## So you may remove this if condition\n",
        "      self.soft_update(self.qnetwork_local, self.qnetwork_target,TAU)\n",
        "    \n",
        "  def soft_update(self, qnetwork_local, qnetwork_target,tau):\n",
        "    '''\n",
        "    Update the target Q Network\n",
        "    '''\n",
        "    for local_parms, target_parms in zip(qnetwork_local.parameters(), qnetwork_target.parameters()):\n",
        "      target_parms.data.copy_(tau*local_parms.data + (1.0 -tau)*target_parms.data)\n",
        "        \n",
        "        \n",
        "  def act(self, state, epsilon =0.0):\n",
        "\n",
        "    \"\"\"\n",
        "    Returns actions for given state as per current policy.\n",
        "    \"\"\"\n",
        "    state = torch.from_numpy(state).float().unsqueeze(0).to(device)\n",
        "\n",
        "    self.qnetwork_local.eval()\n",
        "    with torch.no_grad():\n",
        "      actions_values = self.qnetwork_local(state)\n",
        "\n",
        "    ##Back to train mode\n",
        "    self.qnetwork_local.train()\n",
        "\n",
        "    # Epsilon-greedy action selection\n",
        "\n",
        "    if random.random() > epsilon:\n",
        "      return np.argmax(actions_values.cpu().data.numpy())\n",
        "    else:\n",
        "      return np.random.choice(np.arange(self.action_size))\n",
        "      \n",
        "    "
      ],
      "execution_count": 0,
      "outputs": []
    },
    {
      "cell_type": "code",
      "metadata": {
        "id": "j4BeNf1adeSF",
        "colab_type": "code",
        "colab": {}
      },
      "source": [
        "def dqn(n_episodes = 2000, max_t = 1000, eps_start = 1.0, eps_end = .01, eps_decay = 0.995, trained_score=200.0):\n",
        "  scores =[]\n",
        "  scores_window = deque(maxlen = 100)\n",
        "  eps = eps_start\n",
        "  \n",
        "  for episode in range(1, n_episodes+1):\n",
        "    state = env.reset()\n",
        "    score = 0\n",
        "    for t in range(max_t):\n",
        "      action = agent.act(state,eps)\n",
        "      next_state , rewards, done, _ = env.step(action)\n",
        "      agent.step(state, action,rewards,next_state ,  done )\n",
        "      state = next_state\n",
        "      score += rewards\n",
        "      if done:\n",
        "        break\n",
        "    scores_window.append(score)\n",
        "    scores.append(score)\n",
        "    eps = max(eps_end, eps*eps_decay)  ## reduce randomness epsilon as we learn\n",
        "    print('\\rEpisode {}\\tAverage Score: {:.2f}'.format(episode, np.mean(scores_window)), end=\"\")\n",
        "    if episode % 100 == 0:\n",
        "      print('\\rEpisode {}\\tAverage Score: {:.2f}'.format(episode, np.mean(scores_window)))\n",
        "    ##if np.mean(scores_window)>=200.0:\n",
        "    if np.mean(scores_window)>=trained_score:\n",
        "        print('\\nEnvironment solved in {:d} episodes!\\tAverage Score: {:.2f}'.format(episode-100, np.mean(scores_window)))\n",
        "        torch.save(agent.qnetwork_local.state_dict(), 'checkpoint.pth')\n",
        "        break\n",
        "  return scores\n",
        "    \n",
        "  \n"
      ],
      "execution_count": 0,
      "outputs": []
    },
    {
      "cell_type": "code",
      "metadata": {
        "id": "Mdjdjye7k-WY",
        "colab_type": "code",
        "outputId": "3e8713f8-5546-4b6f-a64c-627584d80abf",
        "colab": {
          "base_uri": "https://localhost:8080/",
          "height": 401
        }
      },
      "source": [
        "env_observation_space = 8\n",
        "env_action_space = 4\n",
        "\n",
        "agent = Agent(env_observation_space ,env_action_space, seed=0 )\n",
        "scores = dqn()\n",
        "# plot the scores\n",
        "fig = plt.figure()\n",
        "ax = fig.add_subplot(111)\n",
        "plt.plot(np.arange(len(scores)) , scores)\n",
        "\n",
        "plt.xlabel('Episodes')\n",
        "plt.ylabel('Scores')\n",
        "plt.show()"
      ],
      "execution_count": 10,
      "outputs": [
        {
          "output_type": "stream",
          "text": [
            "Episode 100\tAverage Score: -138.09\n",
            "Episode 200\tAverage Score: -74.36\n",
            "Episode 300\tAverage Score: -53.10\n",
            "Episode 400\tAverage Score: 58.45\n",
            "Episode 500\tAverage Score: 180.51\n",
            "Episode 535\tAverage Score: 200.38\n",
            "Environment solved in 435 episodes!\tAverage Score: 200.38\n"
          ],
          "name": "stdout"
        },
        {
          "output_type": "display_data",
          "data": {
            "image/png": "[encoded data removed]",
            "text/plain": [
              "<Figure size 432x288 with 1 Axes>"
            ]
          },
          "metadata": {
            "tags": []
          }
        }
      ]
    },
    {
      "cell_type": "code",
      "metadata": {
        "id": "96sob8_EQ7Sy",
        "colab_type": "code",
        "colab": {}
      },
      "source": [
        "##For environment where CNN is required as part of QNetwork"
      ],
      "execution_count": 0,
      "outputs": []
    },
    {
      "cell_type": "code",
      "metadata": {
        "id": "4k26yJVSQSWh",
        "colab_type": "code",
        "colab": {}
      },
      "source": [
        "class QNetwork(nn.Module):\n",
        "  \"\"\"Actor (Policy) Model.\"\"\"\n",
        "  def __init__(self, state_size, action_size, seed):\n",
        "    '''\n",
        "    Initialize Parameters\n",
        "    '''\n",
        "    super(QNetwork, self).__init__()\n",
        "    self.state_size = state_size\n",
        "    self.action_size = action_size\n",
        "    self.seed = torch.manual_seed(seed)\n",
        "    \n",
        "    self.features = nn.Sequential(\n",
        "            nn.Conv2d(input_shape[0], 32, kernel_size=8, stride=4),\n",
        "            nn.ReLU(),\n",
        "            nn.Conv2d(32, 64, kernel_size=4, stride=2),\n",
        "            nn.ReLU(),\n",
        "            nn.Conv2d(64, 64, kernel_size=3, stride=1),\n",
        "            nn.ReLU()\n",
        "        )\n",
        "        \n",
        "    ##check this 3136 size when you are implementing.\n",
        "    self.advantage = nn.Sequential(nn.Linear(3136,512),\n",
        "                                   nn.ReLU(),\n",
        "                                   nn.Linear(512,action_size)\n",
        "                                  )\n",
        "                                   \n",
        "    self.value =     nn.Sequential(nn.Linear(3136,512),\n",
        "                                   nn.ReLU(),\n",
        "                                   nn.Linear(512,1)\n",
        "                                  )\n",
        "                                   \n",
        "\n",
        "  \n",
        "  def forward(self, state):\n",
        "    \"\"\"\n",
        "    Build a network that maps state -> action values.\n",
        "    \"\"\"\n",
        "    x = self.features(state)\n",
        "    x= x.reshape(x.shape[0],-1)\n",
        "    #advantage\n",
        "    advantage = self.advantage(x)\n",
        "    #value\n",
        "    value = self.value(x)\n",
        "    return value + advantage - advantage.mean()"
      ],
      "execution_count": 0,
      "outputs": []
    },
    {
      "cell_type": "code",
      "metadata": {
        "id": "W-BIPRRL1fBN",
        "colab_type": "code",
        "colab": {}
      },
      "source": [
        ""
      ],
      "execution_count": 0,
      "outputs": []
    },
    {
      "cell_type": "code",
      "metadata": {
        "id": "fComFphRnQ-o",
        "colab_type": "code",
        "colab": {}
      },
      "source": [
        "# load the weights from file\n",
        "agent.qnetwork_local.load_state_dict(torch.load('checkpoint.pth'))\n",
        "\n",
        "for i in range(3):\n",
        "    state = env.reset()\n",
        "    img = plt.imshow(env.render(mode='rgb_array'))\n",
        "    for j in range(200):\n",
        "        action = agent.act(state)\n",
        "        img.set_data(env.render(mode='rgb_array')) \n",
        "        plt.axis('off')\n",
        "        display.display(plt.gcf())\n",
        "        display.clear_output(wait=True)\n",
        "        state, reward, done, _ = env.step(action)\n",
        "        if done:\n",
        "            break \n",
        "            \n"
      ],
      "execution_count": 0,
      "outputs": []
    },
    {
      "cell_type": "code",
      "metadata": {
        "id": "TN7Y4UF9zP7s",
        "colab_type": "code",
        "colab": {}
      },
      "source": [
        "env.close()"
      ],
      "execution_count": 0,
      "outputs": []
    }
  ]
}